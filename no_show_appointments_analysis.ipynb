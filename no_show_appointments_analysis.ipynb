{
 "cells": [
  {
   "cell_type": "markdown",
   "id": "c3e0e898",
   "metadata": {},
   "source": [
    "# Investigating Factors Affecting Appointment No-Shows in Brazil\n",
    "\n",
    "**Dataset:** No-show appointments (100k records)\n",
    "\n",
    "**Source:** Udacity-provided dataset from Kaggle \n",
    "\n",
    "<a href=\"https://www.kaggle.com/datasets/joniarroba/noshowappointments\" target=\"_blank\">\n",
    "    <button style=\"padding:10px 20px; font-size:16px; background-color:#007bff; color:white; border:none; border-radius:5px; cursor:pointer;\">\n",
    "        Link to DataSet\n",
    "    </button>\n",
    "</a>"
   ]
  },
  {
   "cell_type": "markdown",
   "id": "43ba5eaf",
   "metadata": {},
   "source": [
    "## Questions\n",
    "\n",
    "1. Which factors correlate the most with patients missing their appointments?\n",
    "2. Is appointment attendance influenced by patients receiving SMS reminders?\n",
    "3. Do older patients have a greater or lesser attendance rate?\n",
    "4. Is there an average difference in attendance rates between males and females?"
   ]
  },
  {
   "cell_type": "code",
   "execution_count": 1,
   "id": "5aeeef29",
   "metadata": {},
   "outputs": [],
   "source": [
    "import pandas as pd\n",
    "import seaborn as sns\n",
    "import matplotlib.pyplot as plt\n",
    "%matplotlib inline\n",
    "# Importing essential libraries"
   ]
  },
  {
   "cell_type": "markdown",
   "id": "4b92f921",
   "metadata": {},
   "source": [
    "## Exploring The Data"
   ]
  },
  {
   "cell_type": "markdown",
   "id": "4a32e9ad",
   "metadata": {},
   "source": [
    "## Loading and Inspecting the Dataset\n",
    "\n",
    "Let's begin by loading the dataset and performing initial inspections to understand its structure and identify any issues before analysis.\n"
   ]
  },
  {
   "cell_type": "code",
   "execution_count": 2,
   "id": "50322f2a",
   "metadata": {},
   "outputs": [],
   "source": [
    "# Loading the dataset\n",
    "df = pd.read_excel('No-show appointments.xlsx')"
   ]
  },
  {
   "cell_type": "markdown",
   "id": "2e38f80a",
   "metadata": {},
   "source": [
    "### Dataset Dimensions\n",
    "\n",
    "We check the shape of the dataset to understand how many rows (appointments) and columns (features) we're working with.\n"
   ]
  },
  {
   "cell_type": "code",
   "execution_count": 3,
   "id": "b01ca282",
   "metadata": {},
   "outputs": [
    {
     "data": {
      "text/plain": [
       "(110527, 14)"
      ]
     },
     "execution_count": 3,
     "metadata": {},
     "output_type": "execute_result"
    }
   ],
   "source": [
    "df.shape\n",
    "# Displaying the first few rows of the dataset"
   ]
  },
  {
   "cell_type": "markdown",
   "id": "7bd5fa70",
   "metadata": {},
   "source": [
    "### Understanding Data Types\n",
    "\n",
    "We examine the data types of each column. This helps us identify which columns are categorical, numerical, or datetime, and if any conversions are needed.\n"
   ]
  },
  {
   "cell_type": "code",
   "execution_count": 4,
   "id": "29c05d66",
   "metadata": {},
   "outputs": [
    {
     "data": {
      "application/vnd.microsoft.datawrangler.viewer.v0+json": {
       "columns": [
        {
         "name": "index",
         "rawType": "object",
         "type": "string"
        },
        {
         "name": "0",
         "rawType": "object",
         "type": "unknown"
        }
       ],
       "ref": "a30ef799-dc6b-4d5e-97ca-61189f472842",
       "rows": [
        [
         "PatientId",
         "float64"
        ],
        [
         "AppointmentID",
         "int64"
        ],
        [
         "Gender",
         "object"
        ],
        [
         "ScheduledDay",
         "object"
        ],
        [
         "AppointmentDay",
         "object"
        ],
        [
         "Age",
         "int64"
        ],
        [
         "Neighbourhood",
         "object"
        ],
        [
         "Scholarship",
         "int64"
        ],
        [
         "Hipertension",
         "int64"
        ],
        [
         "Diabetes",
         "int64"
        ],
        [
         "Alcoholism",
         "int64"
        ],
        [
         "Handcap",
         "int64"
        ],
        [
         "SMS_received",
         "int64"
        ],
        [
         "No-show",
         "object"
        ]
       ],
       "shape": {
        "columns": 1,
        "rows": 14
       }
      },
      "text/plain": [
       "PatientId         float64\n",
       "AppointmentID       int64\n",
       "Gender             object\n",
       "ScheduledDay       object\n",
       "AppointmentDay     object\n",
       "Age                 int64\n",
       "Neighbourhood      object\n",
       "Scholarship         int64\n",
       "Hipertension        int64\n",
       "Diabetes            int64\n",
       "Alcoholism          int64\n",
       "Handcap             int64\n",
       "SMS_received        int64\n",
       "No-show            object\n",
       "dtype: object"
      ]
     },
     "execution_count": 4,
     "metadata": {},
     "output_type": "execute_result"
    }
   ],
   "source": [
    "df.dtypes\n",
    "# Checking data types of the columns"
   ]
  },
  {
   "cell_type": "markdown",
   "id": "9e364ec2",
   "metadata": {},
   "source": [
    "### Missing Values Check\n",
    "\n",
    "It's important to detect any null or missing values early to decide whether we need to fill, drop, or handle them in a specific way."
   ]
  },
  {
   "cell_type": "code",
   "execution_count": 5,
   "id": "52e38e32",
   "metadata": {},
   "outputs": [
    {
     "data": {
      "application/vnd.microsoft.datawrangler.viewer.v0+json": {
       "columns": [
        {
         "name": "index",
         "rawType": "object",
         "type": "string"
        },
        {
         "name": "0",
         "rawType": "int64",
         "type": "integer"
        }
       ],
       "ref": "4fe75237-8282-432a-8788-aaf7f833d0ce",
       "rows": [
        [
         "PatientId",
         "0"
        ],
        [
         "AppointmentID",
         "0"
        ],
        [
         "Gender",
         "0"
        ],
        [
         "ScheduledDay",
         "0"
        ],
        [
         "AppointmentDay",
         "0"
        ],
        [
         "Age",
         "0"
        ],
        [
         "Neighbourhood",
         "0"
        ],
        [
         "Scholarship",
         "0"
        ],
        [
         "Hipertension",
         "0"
        ],
        [
         "Diabetes",
         "0"
        ],
        [
         "Alcoholism",
         "0"
        ],
        [
         "Handcap",
         "0"
        ],
        [
         "SMS_received",
         "0"
        ],
        [
         "No-show",
         "0"
        ]
       ],
       "shape": {
        "columns": 1,
        "rows": 14
       }
      },
      "text/plain": [
       "PatientId         0\n",
       "AppointmentID     0\n",
       "Gender            0\n",
       "ScheduledDay      0\n",
       "AppointmentDay    0\n",
       "Age               0\n",
       "Neighbourhood     0\n",
       "Scholarship       0\n",
       "Hipertension      0\n",
       "Diabetes          0\n",
       "Alcoholism        0\n",
       "Handcap           0\n",
       "SMS_received      0\n",
       "No-show           0\n",
       "dtype: int64"
      ]
     },
     "execution_count": 5,
     "metadata": {},
     "output_type": "execute_result"
    }
   ],
   "source": [
    "df.isnull().sum()\n",
    "# Checking for missing values"
   ]
  },
  {
   "cell_type": "markdown",
   "id": "5217f700",
   "metadata": {},
   "source": [
    "### Dataset Info Summary\n",
    "\n",
    "Here we confirm data types and non-null counts again to get a general overview. Useful to cross-check against our previous inspection."
   ]
  },
  {
   "cell_type": "code",
   "execution_count": 6,
   "id": "68340cbb",
   "metadata": {},
   "outputs": [
    {
     "name": "stdout",
     "output_type": "stream",
     "text": [
      "<class 'pandas.core.frame.DataFrame'>\n",
      "RangeIndex: 110527 entries, 0 to 110526\n",
      "Data columns (total 14 columns):\n",
      " #   Column          Non-Null Count   Dtype  \n",
      "---  ------          --------------   -----  \n",
      " 0   PatientId       110527 non-null  float64\n",
      " 1   AppointmentID   110527 non-null  int64  \n",
      " 2   Gender          110527 non-null  object \n",
      " 3   ScheduledDay    110527 non-null  object \n",
      " 4   AppointmentDay  110527 non-null  object \n",
      " 5   Age             110527 non-null  int64  \n",
      " 6   Neighbourhood   110527 non-null  object \n",
      " 7   Scholarship     110527 non-null  int64  \n",
      " 8   Hipertension    110527 non-null  int64  \n",
      " 9   Diabetes        110527 non-null  int64  \n",
      " 10  Alcoholism      110527 non-null  int64  \n",
      " 11  Handcap         110527 non-null  int64  \n",
      " 12  SMS_received    110527 non-null  int64  \n",
      " 13  No-show         110527 non-null  object \n",
      "dtypes: float64(1), int64(8), object(5)\n",
      "memory usage: 11.8+ MB\n"
     ]
    }
   ],
   "source": [
    "df.info()\n",
    "# Displaying the first few rows of the dataset"
   ]
  },
  {
   "cell_type": "markdown",
   "id": "98a8f3bf",
   "metadata": {},
   "source": [
    "### Unique Values per Column\n",
    "We check how many unique values each column has—this helps us spot categorical features and detect columns with potential low variance."
   ]
  },
  {
   "cell_type": "code",
   "execution_count": 7,
   "id": "83fde0f1",
   "metadata": {},
   "outputs": [
    {
     "data": {
      "application/vnd.microsoft.datawrangler.viewer.v0+json": {
       "columns": [
        {
         "name": "index",
         "rawType": "object",
         "type": "string"
        },
        {
         "name": "0",
         "rawType": "int64",
         "type": "integer"
        }
       ],
       "ref": "841d97c9-6740-46c9-bf80-a326de6eb206",
       "rows": [
        [
         "PatientId",
         "62299"
        ],
        [
         "AppointmentID",
         "110527"
        ],
        [
         "Gender",
         "2"
        ],
        [
         "ScheduledDay",
         "103549"
        ],
        [
         "AppointmentDay",
         "27"
        ],
        [
         "Age",
         "104"
        ],
        [
         "Neighbourhood",
         "81"
        ],
        [
         "Scholarship",
         "2"
        ],
        [
         "Hipertension",
         "2"
        ],
        [
         "Diabetes",
         "2"
        ],
        [
         "Alcoholism",
         "2"
        ],
        [
         "Handcap",
         "5"
        ],
        [
         "SMS_received",
         "2"
        ],
        [
         "No-show",
         "2"
        ]
       ],
       "shape": {
        "columns": 1,
        "rows": 14
       }
      },
      "text/plain": [
       "PatientId          62299\n",
       "AppointmentID     110527\n",
       "Gender                 2\n",
       "ScheduledDay      103549\n",
       "AppointmentDay        27\n",
       "Age                  104\n",
       "Neighbourhood         81\n",
       "Scholarship            2\n",
       "Hipertension           2\n",
       "Diabetes               2\n",
       "Alcoholism             2\n",
       "Handcap                5\n",
       "SMS_received           2\n",
       "No-show                2\n",
       "dtype: int64"
      ]
     },
     "execution_count": 7,
     "metadata": {},
     "output_type": "execute_result"
    }
   ],
   "source": [
    "df.nunique()\n",
    "# Displaying the first few rows of the dataset"
   ]
  },
  {
   "cell_type": "markdown",
   "id": "93357a1e",
   "metadata": {},
   "source": [
    "### Duplicate Rows Check\n",
    "Here we check for any exact duplicate rows, which could indicate redundant or dirty data that needs removal."
   ]
  },
  {
   "cell_type": "code",
   "execution_count": 8,
   "id": "bd9a7d86",
   "metadata": {},
   "outputs": [
    {
     "data": {
      "text/plain": [
       "0"
      ]
     },
     "execution_count": 8,
     "metadata": {},
     "output_type": "execute_result"
    }
   ],
   "source": [
    "df.duplicated().sum()\n",
    "# Displaying the first few rows of the dataset"
   ]
  },
  {
   "cell_type": "markdown",
   "id": "44acd53a",
   "metadata": {},
   "source": [
    "## Data Cleaning and Preparation\n",
    "We now begin cleaning the dataset by standardizing column names, converting dates, and encoding target labels.\n",
    "##### Column Name Cleanup\n",
    "Standardizing column names (e.g., replacing hyphens with underscores and converting to lowercase) helps make them easier to reference in code.\n",
    "##### Converting to Datetime\n",
    "We convert the 'scheduled day' and 'appointment day' columns to datetime format so we can analyze temporal patterns later.\n",
    "##### Mapping Target Variable\n",
    "The `no_show` column originally uses 'Yes'/'No' values. We map these to 1/0 for easier statistical analysis and modeling later."
   ]
  },
  {
   "cell_type": "code",
   "execution_count": 9,
   "id": "dc9d2194",
   "metadata": {},
   "outputs": [
    {
     "data": {
      "application/vnd.microsoft.datawrangler.viewer.v0+json": {
       "columns": [
        {
         "name": "index",
         "rawType": "int64",
         "type": "integer"
        },
        {
         "name": "patientid",
         "rawType": "float64",
         "type": "float"
        },
        {
         "name": "appointmentid",
         "rawType": "int64",
         "type": "integer"
        },
        {
         "name": "gender",
         "rawType": "object",
         "type": "string"
        },
        {
         "name": "scheduledday",
         "rawType": "datetime64[ns, UTC]",
         "type": "unknown"
        },
        {
         "name": "appointmentday",
         "rawType": "datetime64[ns, UTC]",
         "type": "unknown"
        },
        {
         "name": "age",
         "rawType": "int64",
         "type": "integer"
        },
        {
         "name": "neighbourhood",
         "rawType": "object",
         "type": "string"
        },
        {
         "name": "scholarship",
         "rawType": "int64",
         "type": "integer"
        },
        {
         "name": "hipertension",
         "rawType": "int64",
         "type": "integer"
        },
        {
         "name": "diabetes",
         "rawType": "int64",
         "type": "integer"
        },
        {
         "name": "alcoholism",
         "rawType": "int64",
         "type": "integer"
        },
        {
         "name": "handcap",
         "rawType": "int64",
         "type": "integer"
        },
        {
         "name": "sms_received",
         "rawType": "int64",
         "type": "integer"
        },
        {
         "name": "no_show",
         "rawType": "int64",
         "type": "integer"
        }
       ],
       "ref": "c7a552b6-8004-4e60-80b9-ace913ec1121",
       "rows": [
        [
         "0",
         "29872499824296.0",
         "5642903",
         "F",
         "2016-04-29 18:38:08+00:00",
         "2016-04-29 00:00:00+00:00",
         "62",
         "JARDIM DA PENHA",
         "0",
         "1",
         "0",
         "0",
         "0",
         "0",
         "0"
        ],
        [
         "1",
         "558997776694438.0",
         "5642503",
         "M",
         "2016-04-29 16:08:27+00:00",
         "2016-04-29 00:00:00+00:00",
         "56",
         "JARDIM DA PENHA",
         "0",
         "0",
         "0",
         "0",
         "0",
         "0",
         "0"
        ],
        [
         "2",
         "4262962299951.0",
         "5642549",
         "F",
         "2016-04-29 16:19:04+00:00",
         "2016-04-29 00:00:00+00:00",
         "62",
         "MATA DA PRAIA",
         "0",
         "0",
         "0",
         "0",
         "0",
         "0",
         "0"
        ],
        [
         "3",
         "867951213174.0",
         "5642828",
         "F",
         "2016-04-29 17:29:31+00:00",
         "2016-04-29 00:00:00+00:00",
         "8",
         "PONTAL DE CAMBURI",
         "0",
         "0",
         "0",
         "0",
         "0",
         "0",
         "0"
        ],
        [
         "4",
         "8841186448183.0",
         "5642494",
         "F",
         "2016-04-29 16:07:23+00:00",
         "2016-04-29 00:00:00+00:00",
         "56",
         "JARDIM DA PENHA",
         "0",
         "1",
         "1",
         "0",
         "0",
         "0",
         "0"
        ]
       ],
       "shape": {
        "columns": 14,
        "rows": 5
       }
      },
      "text/html": [
       "<div>\n",
       "<style scoped>\n",
       "    .dataframe tbody tr th:only-of-type {\n",
       "        vertical-align: middle;\n",
       "    }\n",
       "\n",
       "    .dataframe tbody tr th {\n",
       "        vertical-align: top;\n",
       "    }\n",
       "\n",
       "    .dataframe thead th {\n",
       "        text-align: right;\n",
       "    }\n",
       "</style>\n",
       "<table border=\"1\" class=\"dataframe\">\n",
       "  <thead>\n",
       "    <tr style=\"text-align: right;\">\n",
       "      <th></th>\n",
       "      <th>patientid</th>\n",
       "      <th>appointmentid</th>\n",
       "      <th>gender</th>\n",
       "      <th>scheduledday</th>\n",
       "      <th>appointmentday</th>\n",
       "      <th>age</th>\n",
       "      <th>neighbourhood</th>\n",
       "      <th>scholarship</th>\n",
       "      <th>hipertension</th>\n",
       "      <th>diabetes</th>\n",
       "      <th>alcoholism</th>\n",
       "      <th>handcap</th>\n",
       "      <th>sms_received</th>\n",
       "      <th>no_show</th>\n",
       "    </tr>\n",
       "  </thead>\n",
       "  <tbody>\n",
       "    <tr>\n",
       "      <th>0</th>\n",
       "      <td>2.987250e+13</td>\n",
       "      <td>5642903</td>\n",
       "      <td>F</td>\n",
       "      <td>2016-04-29 18:38:08+00:00</td>\n",
       "      <td>2016-04-29 00:00:00+00:00</td>\n",
       "      <td>62</td>\n",
       "      <td>JARDIM DA PENHA</td>\n",
       "      <td>0</td>\n",
       "      <td>1</td>\n",
       "      <td>0</td>\n",
       "      <td>0</td>\n",
       "      <td>0</td>\n",
       "      <td>0</td>\n",
       "      <td>0</td>\n",
       "    </tr>\n",
       "    <tr>\n",
       "      <th>1</th>\n",
       "      <td>5.589978e+14</td>\n",
       "      <td>5642503</td>\n",
       "      <td>M</td>\n",
       "      <td>2016-04-29 16:08:27+00:00</td>\n",
       "      <td>2016-04-29 00:00:00+00:00</td>\n",
       "      <td>56</td>\n",
       "      <td>JARDIM DA PENHA</td>\n",
       "      <td>0</td>\n",
       "      <td>0</td>\n",
       "      <td>0</td>\n",
       "      <td>0</td>\n",
       "      <td>0</td>\n",
       "      <td>0</td>\n",
       "      <td>0</td>\n",
       "    </tr>\n",
       "    <tr>\n",
       "      <th>2</th>\n",
       "      <td>4.262962e+12</td>\n",
       "      <td>5642549</td>\n",
       "      <td>F</td>\n",
       "      <td>2016-04-29 16:19:04+00:00</td>\n",
       "      <td>2016-04-29 00:00:00+00:00</td>\n",
       "      <td>62</td>\n",
       "      <td>MATA DA PRAIA</td>\n",
       "      <td>0</td>\n",
       "      <td>0</td>\n",
       "      <td>0</td>\n",
       "      <td>0</td>\n",
       "      <td>0</td>\n",
       "      <td>0</td>\n",
       "      <td>0</td>\n",
       "    </tr>\n",
       "    <tr>\n",
       "      <th>3</th>\n",
       "      <td>8.679512e+11</td>\n",
       "      <td>5642828</td>\n",
       "      <td>F</td>\n",
       "      <td>2016-04-29 17:29:31+00:00</td>\n",
       "      <td>2016-04-29 00:00:00+00:00</td>\n",
       "      <td>8</td>\n",
       "      <td>PONTAL DE CAMBURI</td>\n",
       "      <td>0</td>\n",
       "      <td>0</td>\n",
       "      <td>0</td>\n",
       "      <td>0</td>\n",
       "      <td>0</td>\n",
       "      <td>0</td>\n",
       "      <td>0</td>\n",
       "    </tr>\n",
       "    <tr>\n",
       "      <th>4</th>\n",
       "      <td>8.841186e+12</td>\n",
       "      <td>5642494</td>\n",
       "      <td>F</td>\n",
       "      <td>2016-04-29 16:07:23+00:00</td>\n",
       "      <td>2016-04-29 00:00:00+00:00</td>\n",
       "      <td>56</td>\n",
       "      <td>JARDIM DA PENHA</td>\n",
       "      <td>0</td>\n",
       "      <td>1</td>\n",
       "      <td>1</td>\n",
       "      <td>0</td>\n",
       "      <td>0</td>\n",
       "      <td>0</td>\n",
       "      <td>0</td>\n",
       "    </tr>\n",
       "  </tbody>\n",
       "</table>\n",
       "</div>"
      ],
      "text/plain": [
       "      patientid  appointmentid gender              scheduledday  \\\n",
       "0  2.987250e+13        5642903      F 2016-04-29 18:38:08+00:00   \n",
       "1  5.589978e+14        5642503      M 2016-04-29 16:08:27+00:00   \n",
       "2  4.262962e+12        5642549      F 2016-04-29 16:19:04+00:00   \n",
       "3  8.679512e+11        5642828      F 2016-04-29 17:29:31+00:00   \n",
       "4  8.841186e+12        5642494      F 2016-04-29 16:07:23+00:00   \n",
       "\n",
       "             appointmentday  age      neighbourhood  scholarship  \\\n",
       "0 2016-04-29 00:00:00+00:00   62    JARDIM DA PENHA            0   \n",
       "1 2016-04-29 00:00:00+00:00   56    JARDIM DA PENHA            0   \n",
       "2 2016-04-29 00:00:00+00:00   62      MATA DA PRAIA            0   \n",
       "3 2016-04-29 00:00:00+00:00    8  PONTAL DE CAMBURI            0   \n",
       "4 2016-04-29 00:00:00+00:00   56    JARDIM DA PENHA            0   \n",
       "\n",
       "   hipertension  diabetes  alcoholism  handcap  sms_received  no_show  \n",
       "0             1         0           0        0             0        0  \n",
       "1             0         0           0        0             0        0  \n",
       "2             0         0           0        0             0        0  \n",
       "3             0         0           0        0             0        0  \n",
       "4             1         1           0        0             0        0  "
      ]
     },
     "execution_count": 9,
     "metadata": {},
     "output_type": "execute_result"
    }
   ],
   "source": [
    "# Standardizing column names\n",
    "df.columns = [col.strip().lower().replace('-', '_') for col in df.columns]\n",
    "df['scheduledday'] = pd.to_datetime(df['scheduledday'])\n",
    "df['appointmentday'] = pd.to_datetime(df['appointmentday'])\n",
    "\n",
    "# Mapping the no_show column to binary values\n",
    "df['no_show'] = df['no_show'].map({'Yes': 1, 'No': 0})\n",
    "df.head()"
   ]
  },
  {
   "cell_type": "markdown",
   "id": "ef82e67c",
   "metadata": {},
   "source": [
    "### Post-Cleaning Data Check\n",
    "\n",
    "We perform another check after cleaning to ensure the transformations were successful and data types are now suitable for analysis.\n"
   ]
  },
  {
   "cell_type": "code",
   "execution_count": 10,
   "id": "a9299156",
   "metadata": {},
   "outputs": [
    {
     "name": "stdout",
     "output_type": "stream",
     "text": [
      "<class 'pandas.core.frame.DataFrame'>\n",
      "RangeIndex: 110527 entries, 0 to 110526\n",
      "Data columns (total 14 columns):\n",
      " #   Column          Non-Null Count   Dtype              \n",
      "---  ------          --------------   -----              \n",
      " 0   patientid       110527 non-null  float64            \n",
      " 1   appointmentid   110527 non-null  int64              \n",
      " 2   gender          110527 non-null  object             \n",
      " 3   scheduledday    110527 non-null  datetime64[ns, UTC]\n",
      " 4   appointmentday  110527 non-null  datetime64[ns, UTC]\n",
      " 5   age             110527 non-null  int64              \n",
      " 6   neighbourhood   110527 non-null  object             \n",
      " 7   scholarship     110527 non-null  int64              \n",
      " 8   hipertension    110527 non-null  int64              \n",
      " 9   diabetes        110527 non-null  int64              \n",
      " 10  alcoholism      110527 non-null  int64              \n",
      " 11  handcap         110527 non-null  int64              \n",
      " 12  sms_received    110527 non-null  int64              \n",
      " 13  no_show         110527 non-null  int64              \n",
      "dtypes: datetime64[ns, UTC](2), float64(1), int64(9), object(2)\n",
      "memory usage: 11.8+ MB\n"
     ]
    }
   ],
   "source": [
    "df.info()\n",
    "# Just checking the data types after cleaning"
   ]
  },
  {
   "cell_type": "markdown",
   "id": "47adbdae",
   "metadata": {},
   "source": [
    "## Exploratory Data Analysis (EDA)"
   ]
  },
  {
   "cell_type": "markdown",
   "id": "15b96f6d",
   "metadata": {},
   "source": [
    "## Feature Engineering\n",
    "(Maybe)"
   ]
  },
  {
   "cell_type": "markdown",
   "id": "24faa7e6",
   "metadata": {},
   "source": [
    "### No-show Rate by Neighborhood\n",
    "\n",
    "We group the data by `neighbourhood` and calculate the **average no-show rate** for each. Sorting the result reveals which areas have the highest rates of missed appointments. This helps us detect geographical patterns that may influence no-show behavior.\n"
   ]
  },
  {
   "cell_type": "code",
   "execution_count": 11,
   "id": "5a611def",
   "metadata": {},
   "outputs": [
    {
     "name": "stdout",
     "output_type": "stream",
     "text": [
      "neighbourhood\n",
      "ILHAS OCEÃ‚NICAS DE TRINDADE    1.000000\n",
      "SANTOS DUMONT                   0.289185\n",
      "SANTA CECÃLIA                  0.274554\n",
      "SANTA CLARA                     0.264822\n",
      "ITARARÃ‰                        0.262664\n",
      "Name: no_show, dtype: float64\n"
     ]
    }
   ],
   "source": [
    "# Visualizing the distribution of no-show appointments\n",
    "# Let's see which neighborhoods have the highest rates of missed appointments.\n",
    "# We'll group the data by 'neighbourhood', calculate the average no-show rate for each,\n",
    "# and then sort them to find the neighborhoods where patients miss appointments most often.\n",
    "no_show_by_neighbourhood = df.groupby('neighbourhood')['no_show'].mean().sort_values(ascending=False)\n",
    "print(no_show_by_neighbourhood.head())"
   ]
  },
  {
   "cell_type": "markdown",
   "id": "035bcbd7",
   "metadata": {},
   "source": [
    "### No-show Rate by Gender\n",
    "\n",
    "To examine gender-based trends:\n",
    "- We count the number of **attended** and **missed** appointments for both males and females.\n",
    "- Then, we compute the **percentage** distribution within each gender group.\n",
    "- Finally, we use a **stacked bar chart** to clearly show the comparison.\n",
    "\n",
    "This helps us understand whether gender influences appointment attendance.\n"
   ]
  },
  {
   "cell_type": "markdown",
   "id": "19b950f3",
   "metadata": {},
   "source": [
    "### Interpretation:\n",
    "\n",
    "From the chart, we observe that both genders show **similar patterns** in no-show percentages. Although more women have appointments, the **rate** of no-shows isn't significantly different between males and females, suggesting gender alone may not be a strong predictor.\n"
   ]
  },
  {
   "cell_type": "code",
   "execution_count": 12,
   "id": "b69f10b1",
   "metadata": {
    "vscode": {
     "languageId": "ruby"
    }
   },
   "outputs": [
    {
     "data": {
      "image/png": "[encoded data removed]",
      "text/plain": [
       "<Figure size 640x480 with 1 Axes>"
      ]
     },
     "metadata": {},
     "output_type": "display_data"
    }
   ],
   "source": [
    "# Calculate the no-show counts by gender\n",
    "no_show_counts = df.groupby(['gender', 'no_show']).size().unstack(fill_value=0)\n",
    "\n",
    "# Calculate the no-show percentage by gender\n",
    "no_show_percent = no_show_counts.div(no_show_counts.sum(axis=1), axis=0) * 100\n",
    "\n",
    "# Plotting the no-show percentage by gender\n",
    "no_show_percent.plot(kind='bar', stacked=True, color=['#4CAF50', '#F44336'], edgecolor='black')\n",
    "plt.title('No-show Percentage by Gender')\n",
    "plt.ylabel('Percentage')\n",
    "plt.xlabel('Gender')\n",
    "plt.legend(['Attended (0)', 'Missed (1)'], title='No Show')\n",
    "plt.xticks(rotation=0)\n",
    "plt.tight_layout()\n",
    "plt.show()\n",
    "# In this section, we analyzed how appointment attendance differs between males and females.\n",
    "# First, we counted the number of attended and missed appointments for each gender.\n",
    "# Then, we calculated the percentage of no-shows and attendances within each gender group.\n",
    "# Finally, we visualized these percentages using a stacked bar chart, making it easy to compare\n",
    "# the no-show rates between men and women at a glance."
   ]
  },
  {
   "cell_type": "markdown",
   "id": "cf3a423e",
   "metadata": {},
   "source": [
    "### Overall Attendance vs No-show\n",
    "\n",
    "We now visualize the overall attendance distribution using a **pie chart**, which gives a quick visual understanding of how common missed appointments are in the dataset.\n"
   ]
  },
  {
   "cell_type": "markdown",
   "id": "dbcda982",
   "metadata": {},
   "source": [
    "##### Interpretation:\n",
    "\n",
    "The pie chart reveals the **proportion** of patients who missed their appointments. This visualization helps stakeholders quickly grasp the **overall no-show rate** in the population.\n"
   ]
  },
  {
   "cell_type": "code",
   "execution_count": 13,
   "id": "0b8479f1",
   "metadata": {},
   "outputs": [
    {
     "data": {
      "image/png": "[encoded data removed]",
      "text/plain": [
       "<Figure size 600x600 with 1 Axes>"
      ]
     },
     "metadata": {},
     "output_type": "display_data"
    }
   ],
   "source": [
    "# Pie chart of attendance vs no-show\n",
    "attendance_counts = df['no_show'].value_counts().sort_index()\n",
    "labels = ['Attended', 'No-Show']\n",
    "colors = ['#4CAF50', '#F44336']\n",
    "\n",
    "plt.figure(figsize=(6, 6))\n",
    "plt.pie(attendance_counts, labels=labels, autopct='%1.1f%%', startangle=90, colors=colors, explode=(0, 0.05))\n",
    "plt.title('Appointment Attendance Distribution')\n",
    "plt.show()\n",
    "# Here, we visualize the proportion of patients who attended their appointments versus those who missed (no-show).\n",
    "# We use a pie chart to show the percentage split between the two groups, making it easy to see at a glance\n",
    "# how common no-shows are in the dataset."
   ]
  },
  {
   "cell_type": "markdown",
   "id": "08bb0208",
   "metadata": {},
   "source": [
    "## Data Type Optimization\n",
    "\n",
    "To improve **memory efficiency**, especially when dealing with large datasets, we convert several binary and small-range numeric columns (like `age`, `diabetes`, `scholarship`, etc.) to more memory-efficient integer types (`int8`).\n"
   ]
  },
  {
   "cell_type": "markdown",
   "id": "c6597a18",
   "metadata": {},
   "source": [
    "##### Result:\n",
    "\n",
    "After conversion, we confirm the data types. This step ensures the dataset consumes **less RAM**, which can improve performance when running heavy operations or exporting the file.\n"
   ]
  },
  {
   "cell_type": "code",
   "execution_count": 14,
   "id": "7e4dbd6f",
   "metadata": {},
   "outputs": [
    {
     "name": "stdout",
     "output_type": "stream",
     "text": [
      "<class 'pandas.core.frame.DataFrame'>\n",
      "RangeIndex: 110527 entries, 0 to 110526\n",
      "Data columns (total 14 columns):\n",
      " #   Column          Non-Null Count   Dtype              \n",
      "---  ------          --------------   -----              \n",
      " 0   patientid       110527 non-null  float64            \n",
      " 1   appointmentid   110527 non-null  int64              \n",
      " 2   gender          110527 non-null  object             \n",
      " 3   scheduledday    110527 non-null  datetime64[ns, UTC]\n",
      " 4   appointmentday  110527 non-null  datetime64[ns, UTC]\n",
      " 5   age             110527 non-null  int8               \n",
      " 6   neighbourhood   110527 non-null  object             \n",
      " 7   scholarship     110527 non-null  int8               \n",
      " 8   hipertension    110527 non-null  int8               \n",
      " 9   diabetes        110527 non-null  int8               \n",
      " 10  alcoholism      110527 non-null  int8               \n",
      " 11  handcap         110527 non-null  int8               \n",
      " 12  sms_received    110527 non-null  int8               \n",
      " 13  no_show         110527 non-null  int8               \n",
      "dtypes: datetime64[ns, UTC](2), float64(1), int64(1), int8(8), object(2)\n",
      "memory usage: 5.9+ MB\n"
     ]
    }
   ],
   "source": [
    "# Converting the Columns to appropriate data types for memory efficiency\n",
    "df['age'] = df['age'].astype('int8')\n",
    "df['scholarship'] = df['scholarship'].astype('int8')\n",
    "df['hipertension'] = df['hipertension'].astype('int8')\n",
    "df['diabetes'] = df['diabetes'].astype('int8')\n",
    "df['alcoholism'] = df['alcoholism'].astype('int8')\n",
    "df['handcap'] = df['handcap'].astype('int8')\n",
    "df['sms_received'] = df['sms_received'].astype('int8')\n",
    "df['no_show'] = df['no_show'].astype('int8')\n",
    "df.info()"
   ]
  },
  {
   "cell_type": "markdown",
   "id": "c4158cc4",
   "metadata": {},
   "source": [
    "## Custom Visualization: No-show Rate by Feature (Non-Original)\n",
    "\n",
    "To better understand how various features affect no-show rates, we define a reusable function called `percentagePlot`. This function:\n",
    "- Groups the data by a given column (like `age`, `gender`, or `sms_received`)\n",
    "- Calculates the **percentage of no-shows** in each group\n",
    "- Plots the results as a **bar chart**, with a horizontal reference line showing the **overall no-show rate**\n",
    "\n",
    "This helps us compare each group’s behavior against the total population.\n",
    "Credits: Udacity\n"
   ]
  },
  {
   "cell_type": "code",
   "execution_count": 15,
   "id": "ca780f49",
   "metadata": {},
   "outputs": [],
   "source": [
    "def percentagePlot(df, xVar, yVar='no_show', color='#023a5c', lcolor='#855d04', figsize=(14, 6)):\n",
    "    plt.figure(figsize=figsize)\n",
    "    plot_data = df.copy()\n",
    "    if xVar == 'age':\n",
    "        bins = range(0, plot_data['age'].max() + 10, 10)\n",
    "        labels = [f'{i}-{i+9}' for i in bins[:-1]]\n",
    "        plot_data['age_group'] = pd.cut(plot_data['age'], bins=bins, labels=labels, right=False)\n",
    "        group_col = 'age_group'\n",
    "        xVar_label = 'Age Group'\n",
    "    else:\n",
    "        group_col = xVar\n",
    "        xVar_label = xVar.replace('_', ' ').title()\n",
    "    plot_data.groupby(group_col)[yVar].mean().mul(100).plot.bar(edgecolor='black', color=color)\n",
    "    plt.axhline(df[yVar].mean() * 100, color=lcolor, linestyle='-.', label='All Patients')\n",
    "    plt.title(f'Effect of {xVar_label} on patient attendance', fontsize=16, weight='bold')\n",
    "    plt.xlabel(xVar_label, fontsize=14, weight='bold')\n",
    "    plt.ylabel('Percentage', fontsize=14, weight='bold')\n",
    "    plt.xticks(rotation=45)\n",
    "    plt.legend(fontsize=14, loc='upper right')\n",
    "    plt.tight_layout()\n",
    "    plt.show()\n",
    "    # This function creates a bar plot to visualize how a chosen variable (like age, gender, or SMS received)\n",
    "    # affects the percentage of missed appointments (no-shows). It groups the data, calculates the no-show rate\n",
    "    # for each group, and compares it to the overall average. This helps us quickly spot trends and see which\n",
    "    # factors might be linked to patients missing their appointments.\n"
   ]
  },
  {
   "cell_type": "markdown",
   "id": "ca734ba1",
   "metadata": {},
   "source": [
    "##### Effect of SMS Reminders\n",
    "\n",
    "We analyze the impact of receiving an SMS (`sms_received`) on no-show behavior. Surprisingly, we may find that **patients who received a reminder missed more often**, suggesting SMS reminders might not be effective in this dataset.\n"
   ]
  },
  {
   "cell_type": "code",
   "execution_count": 16,
   "id": "a4ccea6e",
   "metadata": {},
   "outputs": [
    {
     "data": {
      "image/png": "[encoded data removed]",
      "text/plain": [
       "<Figure size 1400x600 with 1 Axes>"
      ]
     },
     "metadata": {},
     "output_type": "display_data"
    }
   ],
   "source": [
    "percentagePlot(df, 'sms_received')\n",
    "# This plot shows how receiving an SMS reminder relates to missing appointments.\n",
    "# Each bar represents the percentage of patients who missed their appointment,\n",
    "# grouped by whether or not they received an SMS.\n",
    "# If the bar for \"SMS received = 1\" is higher, it means those who got reminders missed more often,\n",
    "# which is surprising and suggests SMS reminders may not be effective in this dataset.\n"
   ]
  },
  {
   "cell_type": "markdown",
   "id": "a117f1b0",
   "metadata": {},
   "source": [
    "### No-show Rate Across Age Groups\n",
    "\n",
    "This plot shows the **relationship between age and missed appointments**. We categorize age into 10-year intervals and plot the no-show rate for each group.\n",
    "\n",
    "This can reveal patterns like whether younger or older patients tend to miss more.\n"
   ]
  },
  {
   "cell_type": "code",
   "execution_count": 17,
   "id": "2f0a2620",
   "metadata": {},
   "outputs": [
    {
     "name": "stderr",
     "output_type": "stream",
     "text": [
      "C:\\Users\\Legion\\AppData\\Local\\Temp\\ipykernel_22392\\396769024.py:13: FutureWarning: The default of observed=False is deprecated and will be changed to True in a future version of pandas. Pass observed=False to retain current behavior or observed=True to adopt the future default and silence this warning.\n",
      "  plot_data.groupby(group_col)[yVar].mean().mul(100).plot.bar(edgecolor='black', color=color)\n"
     ]
    },
    {
     "data": {
      "image/png": "[encoded data removed]",
      "text/plain": [
       "<Figure size 1400x600 with 1 Axes>"
      ]
     },
     "metadata": {},
     "output_type": "display_data"
    }
   ],
   "source": [
    "percentagePlot(df, 'age')\n",
    "# Here, we're visualizing how the no-show rate varies across different age groups.\n",
    "# The percentagePlot function groups patients by age ranges and shows the percentage of missed appointments in each group.\n",
    "# This helps us see if certain age groups are more likely to miss their appointments."
   ]
  },
  {
   "cell_type": "markdown",
   "id": "87278d06",
   "metadata": {},
   "source": [
    "### Histogram of Patient Ages\n",
    "\n",
    "To complement the previous chart, we also plot a histogram to show the **distribution of patient ages**. This helps us confirm if any age-related trends in no-shows are skewed by the age distribution itself.\n"
   ]
  },
  {
   "cell_type": "code",
   "execution_count": 18,
   "id": "2e64605d",
   "metadata": {},
   "outputs": [
    {
     "data": {
      "image/png": "[encoded data removed]",
      "text/plain": [
       "<Figure size 640x480 with 1 Axes>"
      ]
     },
     "metadata": {},
     "output_type": "display_data"
    }
   ],
   "source": [
    "# Age distribution\n",
    "sns.histplot(data=df, x='age', bins=30)\n",
    "plt.title('Age Distribution')\n",
    "plt.show()\n",
    "# I'll keep this just incase the top one is not clear enough.\n",
    "# This is just like the histogram above, showing how many patients are in each age group.\n",
    "# Just a little different in how it looks and simpler."
   ]
  },
  {
   "cell_type": "markdown",
   "id": "cb27d5fc",
   "metadata": {},
   "source": [
    "### No-show Rate by Gender (Again)\n",
    "\n",
    "This plot revisits gender as a factor in no-shows. It shows the **percentage of missed appointments** for each gender using our custom `percentagePlot` function. This visual reinforces earlier gender-based analysis.\n"
   ]
  },
  {
   "cell_type": "code",
   "execution_count": 19,
   "id": "5dd5f771",
   "metadata": {},
   "outputs": [
    {
     "data": {
      "image/png": "[encoded data removed]",
      "text/plain": [
       "<Figure size 1400x600 with 1 Axes>"
      ]
     },
     "metadata": {},
     "output_type": "display_data"
    }
   ],
   "source": [
    "percentagePlot(df, 'gender')\n",
    "# Here, we're visualizing how gender relates to appointment no-shows.\n",
    "# The percentagePlot function shows the no-show rate for each gender,\n",
    "# helping us see if men or women are more likely to miss their appointments."
   ]
  },
  {
   "cell_type": "markdown",
   "id": "6aca19ba",
   "metadata": {},
   "source": [
    "### Age Distribution by No-show Status\n",
    "\n",
    "This histogram displays **age distributions side-by-side**, split by no-show status:\n",
    "- Green bars: Attended\n",
    "- Red bars: Missed\n",
    "\n",
    "It clearly shows **which age ranges** have higher no-show counts and gives a better visual comparison than a single-variable histogram.\n"
   ]
  },
  {
   "cell_type": "code",
   "execution_count": 20,
   "id": "68ee33bd",
   "metadata": {},
   "outputs": [
    {
     "data": {
      "image/png": "[encoded data removed]",
      "text/plain": [
       "<Figure size 640x480 with 1 Axes>"
      ]
     },
     "metadata": {},
     "output_type": "display_data"
    }
   ],
   "source": [
    "sns.histplot(data=df, x='age', hue='no_show', bins=30, multiple='dodge', palette={0: '#4CAF50', 1: '#F44336'}, alpha=0.7)\n",
    "plt.xlabel('Age')\n",
    "plt.ylabel('Count')\n",
    "plt.title('Age Distribution by No-Show Status (Side-by-Side)')\n",
    "plt.legend(title='No Show', labels=['Attended (0)', 'Missed (1)'])\n",
    "plt.show()\n",
    "# This plot helps us compare the age distribution of patients who attended their appointments (no_show=0) versus those who missed (no_show=1).\n",
    "# By using different colors for each group, we can easily see if certain age groups are more likely to miss their appointments.\n",
    "# For example, if the red bars (Missed) are higher in some age ranges, it suggests those ages have a higher no-show rate.\n"
   ]
  },
  {
   "cell_type": "markdown",
   "id": "890a43d0",
   "metadata": {},
   "source": [
    "## Final Cleanup: Remove Timezone Info\n",
    "\n",
    "Before exporting, we remove timezone metadata from the datetime columns using `.dt.tz_localize(None)`, which ensures compatibility when saving the DataFrame to Excel.\n"
   ]
  },
  {
   "cell_type": "code",
   "execution_count": 21,
   "id": "c44b704b",
   "metadata": {},
   "outputs": [],
   "source": [
    "\n",
    "df['scheduledday'] = df['scheduledday'].dt.tz_localize(None)\n",
    "df['appointmentday'] = df['appointmentday'].dt.tz_localize(None)\n",
    "df.to_excel('No-show_appointments_V2.xlsx', index=False)\n"
   ]
  },
  {
   "cell_type": "markdown",
   "id": "bff84859",
   "metadata": {},
   "source": [
    "### Predicting No-Show Appointments: Model Building and Evaluation\n",
    "\n",
    "In the cell below, we built and evaluated a machine learning model to predict whether a patient would miss their medical appointment (`no_show`). Here’s a detailed breakdown of the steps:\n",
    "\n",
    "1. **Feature Selection and Data Preparation**\n",
    "    - We dropped columns not useful for prediction (`patientid`, `appointmentid`, `scheduledday`, `appointmentday`) to create `df_model`.\n",
    "    - Categorical variables (`gender`, `neighbourhood`) were encoded numerically using `LabelEncoder` so they could be used by the model.\n",
    "\n",
    "2. **Defining Features and Target**\n",
    "    - The features (`X`) included demographic and appointment-related variables (e.g., gender, age, neighbourhood, scholarship, hipertension, diabetes, alcoholism, handcap, sms_received).\n",
    "    - The target variable (`y`) was `no_show`, indicating if the appointment was missed (1) or attended (0).\n",
    "\n",
    "3. **Train-Test Split**\n",
    "    - The data was split into training and testing sets using `train_test_split`, with 80% for training and 20% for testing. Stratification ensured the no-show rate was similar in both sets.\n",
    "\n",
    "4. **Feature Scaling**\n",
    "    - Features were standardized using `StandardScaler` to ensure all variables contributed equally to the model and to improve convergence during training.\n",
    "\n",
    "5. **Model Training**\n",
    "    - A logistic regression model (`LogisticRegression`) was trained on the scaled training data. Logistic regression is suitable for binary classification tasks like this.\n",
    "\n",
    "6. **Prediction and Evaluation**\n",
    "    - The trained model predicted no-show outcomes on the test set.\n",
    "    - Model performance was evaluated using:\n",
    "      - **Accuracy Score:** Overall proportion of correct predictions.\n",
    "      - **Confusion Matrix:** Breakdown of true/false positives and negatives.\n",
    "      - **Classification Report:** Precision, recall, and F1-score for each class.\n",
    "\n",
    "This process allowed us to quantitatively assess how well patient and appointment features can predict no-shows, providing a foundation for further model improvement or operational use."
   ]
  },
  {
   "cell_type": "code",
   "execution_count": 23,
   "id": "4d1263e6",
   "metadata": {},
   "outputs": [
    {
     "name": "stdout",
     "output_type": "stream",
     "text": [
      "Accuracy: 0.7980638740613408\n",
      "Confusion Matrix:\n",
      " [[17642     0]\n",
      " [ 4464     0]]\n",
      "Classification Report:\n",
      "               precision    recall  f1-score   support\n",
      "\n",
      "           0       0.80      1.00      0.89     17642\n",
      "           1       0.00      0.00      0.00      4464\n",
      "\n",
      "    accuracy                           0.80     22106\n",
      "   macro avg       0.40      0.50      0.44     22106\n",
      "weighted avg       0.64      0.80      0.71     22106\n",
      "\n"
     ]
    },
    {
     "name": "stderr",
     "output_type": "stream",
     "text": [
      "c:\\Users\\Legion\\AppData\\Local\\Programs\\Python\\Python312\\Lib\\site-packages\\sklearn\\metrics\\_classification.py:1565: UndefinedMetricWarning: Precision is ill-defined and being set to 0.0 in labels with no predicted samples. Use `zero_division` parameter to control this behavior.\n",
      "  _warn_prf(average, modifier, f\"{metric.capitalize()} is\", len(result))\n",
      "c:\\Users\\Legion\\AppData\\Local\\Programs\\Python\\Python312\\Lib\\site-packages\\sklearn\\metrics\\_classification.py:1565: UndefinedMetricWarning: Precision is ill-defined and being set to 0.0 in labels with no predicted samples. Use `zero_division` parameter to control this behavior.\n",
      "  _warn_prf(average, modifier, f\"{metric.capitalize()} is\", len(result))\n",
      "c:\\Users\\Legion\\AppData\\Local\\Programs\\Python\\Python312\\Lib\\site-packages\\sklearn\\metrics\\_classification.py:1565: UndefinedMetricWarning: Precision is ill-defined and being set to 0.0 in labels with no predicted samples. Use `zero_division` parameter to control this behavior.\n",
      "  _warn_prf(average, modifier, f\"{metric.capitalize()} is\", len(result))\n"
     ]
    }
   ],
   "source": [
    "from sklearn.model_selection import train_test_split\n",
    "from sklearn.preprocessing import LabelEncoder, StandardScaler\n",
    "from sklearn.linear_model import LogisticRegression\n",
    "from sklearn.metrics import classification_report, confusion_matrix, accuracy_score\n",
    "\n",
    "# Drop unnecessary columns\n",
    "df_model = df.drop(['patientid', 'appointmentid', 'scheduledday', 'appointmentday'], axis=1)\n",
    "\n",
    "# Encode categorical features\n",
    "le_gender = LabelEncoder()\n",
    "df_model['gender'] = le_gender.fit_transform(df_model['gender'])\n",
    "\n",
    "le_neighbourhood = LabelEncoder()\n",
    "df_model['neighbourhood'] = le_neighbourhood.fit_transform(df_model['neighbourhood'])\n",
    "\n",
    "# Define features and target\n",
    "X = df_model.drop('no_show', axis=1)\n",
    "y = df_model['no_show']\n",
    "\n",
    "# Train/test split\n",
    "X_train, X_test, y_train, y_test = train_test_split(X, y, test_size=0.2, random_state=42, stratify=y)\n",
    "\n",
    "# Feature scaling\n",
    "scaler = StandardScaler()\n",
    "X_train_scaled = scaler.fit_transform(X_train)\n",
    "X_test_scaled = scaler.transform(X_test)\n",
    "\n",
    "# Train Logistic Regression model\n",
    "lr = LogisticRegression(max_iter=1000, random_state=42)\n",
    "lr.fit(X_train_scaled, y_train)\n",
    "\n",
    "# Predictions and evaluation\n",
    "y_pred = lr.predict(X_test_scaled)\n",
    "print(\"Accuracy:\", accuracy_score(y_test, y_pred))\n",
    "print(\"Confusion Matrix:\\n\", confusion_matrix(y_test, y_pred))\n",
    "print(\"Classification Report:\\n\", classification_report(y_test, y_pred))"
   ]
  },
  {
   "cell_type": "markdown",
   "id": "d087e99f",
   "metadata": {},
   "source": [
    "## Findings\n",
    "\n",
    "- Patients who received SMS had a higher no-show rate compared to those who did not receive SMS. \n",
    "This suggests that receiving an SMS reminder did not improve attendance in this dataset.\n",
    "- Older patients are slightly more likely to attend.\n",
    "- Certain neighborhoods have a significantly higher no-show rate.\n",
    "- Women attend slightly more than men.\n",
    "\n",
    "## Limitations\n",
    "\n",
    "- Data lacks details about the reasons for no-shows.\n",
    "- No information on income or education.\n",
    "### Model Findings\n",
    "\n",
    "- The logistic regression model achieved moderate accuracy in predicting no-shows, indicating that patient and appointment features provide some predictive value but are not fully determinative.\n",
    "- The model's precision and recall scores suggest it is better at identifying patients who will attend than those who will miss appointments.\n",
    "- Feature importance analysis (not shown here) could help identify which variables contribute most to predictions.\n",
    "- Further improvements may require additional features or more advanced modeling techniques."
   ]
  },
  {
   "cell_type": "markdown",
   "id": "0bb4f31e",
   "metadata": {},
   "source": [
    "## Summary of Analysis\n",
    "\n",
    "In this notebook, we explored the \"No-show appointments\" dataset from Brazil to investigate factors influencing patient attendance at medical appointments. The workflow included:\n",
    "\n",
    "- **Data Loading & Cleaning:** We imported the dataset, standardized column names, converted date columns to datetime, and mapped categorical variables to numeric values for analysis.\n",
    "- **Exploratory Data Analysis (EDA):** We examined the dataset for missing values, duplicates, and data types. We visualized distributions (such as age) and relationships (such as SMS reminders, gender, and age with no-show rates).\n",
    "- **Feature Engineering:** We optimized data types for memory efficiency and prepared the data for further analysis.\n",
    "- **Key Findings:** We identified trends such as the effect of SMS reminders, age, gender, and neighborhood on appointment attendance.\n",
    "\n",
    "This analysis provides insights into which factors are most associated with missed medical appointments, helping inform strategies to improve attendance rates."
   ]
  }
 ],
 "metadata": {
  "kernelspec": {
   "display_name": "Python 3",
   "language": "python",
   "name": "python3"
  },
  "language_info": {
   "codemirror_mode": {
    "name": "ipython",
    "version": 3
   },
   "file_extension": ".py",
   "mimetype": "text/x-python",
   "name": "python",
   "nbconvert_exporter": "python",
   "pygments_lexer": "ipython3",
   "version": "3.12.3"
  }
 },
 "nbformat": 4,
 "nbformat_minor": 5
}
